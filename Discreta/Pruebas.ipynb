{
 "cells": [
  {
   "cell_type": "code",
   "execution_count": 0,
   "metadata": {
    "collapsed": false
   },
   "outputs": [
   ],
   "source": [
    "Pregunta 1\n",
    "\n",
    "Temos 2 pezas de forma Triangular, 3 pezas de forma Circular e 2 de forma Pentagonal. Construír con SageMath todas as formas en que estas 7 pezas se poden colocar liña sen que ningunha forma pentagonal vaia inmediatamente antes dunha circular, como, por exemplo, en 'PTCCCTP'\n",
    "\n",
    "Elimina a liña raise NotImplementedError() e asina a túa lista á variable formas\n",
    "\n",
    "formas ="
   ]
  },
  {
   "cell_type": "code",
   "execution_count": 0,
   "metadata": {
    "collapsed": false
   },
   "outputs": [
   ],
   "source": [
    "# YOUR CODE HERE\n",
    "def test1(c):\n",
    "    a=0\n",
    "    for p in range(len(c)-1):\n",
    "        if c[p-1]=='P' and c[p]=='C':\n",
    "            a=1\n",
    "    if a==0:\n",
    "        return True\n",
    "    else:\n",
    "        return False\n",
    "\n",
    "formas=[''.join(p) for p in Permutations('TTCCCPP') if test1(p)==True]"
   ]
  },
  {
   "cell_type": "code",
   "execution_count": 0,
   "metadata": {
    "collapsed": false
   },
   "outputs": [
   ],
   "source": [
    "from nose.tools import assert_equal\n",
    "assert_equal('TPPTCCC' in formas, True)\n",
    "assert_equal('CCPCTPT' in formas, False)\n",
    "\n"
   ]
  },
  {
   "cell_type": "code",
   "execution_count": 0,
   "metadata": {
    "collapsed": false
   },
   "outputs": [
   ],
   "source": [
    "Pregunta 2\n",
    "\n",
    "Definir unha función para fabricar todas a maneiras de colocar n pezas de formas Triangular, Pentagonal e/ou Circular de xeito que sempre haxa unha triangular, que nunca unha pentagonal vaia inmediatamente antes dunha circular, nin haxa máis de 2 circulares seguidas."
   ]
  },
  {
   "cell_type": "code",
   "execution_count": 0,
   "metadata": {
    "collapsed": false
   },
   "outputs": [
   ],
   "source": [
    "           \n",
    "def recur(n):  # modify function name and parameters\n",
    "    \"\"\"\n",
    "    cadeas de n caracteres de entre 'TCP'\n",
    "    tales que sempre conteñan algún 'T'\n",
    "    e que nunca aparece a secuencia 'PC'\n",
    "    nin a secuencia 'CCC'\n",
    "    \"\"\"\n",
    "    # YOUR CODE HERE\n",
    "    return [''.join(p) for p in Permutations('T'*n+'P'*n+'C'*n,n) if ('T' in ''.join(p)) and(not 'PC' in ''.join(p)) and (not 'CCC' in ''.join(p))]"
   ]
  },
  {
   "cell_type": "code",
   "execution_count": 0,
   "metadata": {
    "collapsed": false
   },
   "outputs": [
   ],
   "source": [
    "from nose.tools import assert_equal\n",
    "assert_equal('TTT' in recur(3), True)\n",
    "assert_equal('CCT' in recur(3), True)\n",
    "assert_equal('TCCC' in recur(4), False)\n",
    "assert_equal(len(recur(10)), 13923)\n"
   ]
  },
  {
   "cell_type": "code",
   "execution_count": 0,
   "metadata": {
    "collapsed": false
   },
   "outputs": [
   ],
   "source": [
    "Pregunta 3\n",
    "\n",
    "Definir unha función para construir todas as formas de colocar t figuras triangulares, c figuras circulares e p pentágonaiss formando un círculo, tendo que ir xuntos, polo menos, 2 dos triángulos e ningún pentágono pode ir seguido dun círculo."
   ]
  },
  {
   "cell_type": "code",
   "execution_count": 0,
   "metadata": {
    "collapsed": false
   },
   "outputs": [
   ],
   "source": [
    "def test1(c):\n",
    "    for i in range(len(c)-1):\n",
    "        if c[i]=='T'and c[i+1]=='T':\n",
    "            return True\n",
    "        i=i+1\n",
    "        \n",
    "    if c[0]=='T' and c[-1]=='T':\n",
    "        return True\n",
    "    else:\n",
    "        return False\n",
    "    \n",
    "def test2(c):\n",
    "    for i in range(len(c)-1):\n",
    "        if c[i]=='P' and c[i+1]=='C':\n",
    "            return False\n",
    "    if c[-1]=='P' and c[0]=='C':\n",
    "        return False\n",
    "    else: \n",
    "        return True\n",
    "\n",
    "def red(t,c,p):  \n",
    "    \"\"\"\n",
    "    colocar en círculo t triangulos, c círculos e p pentágonos,\n",
    "    tendo que ir xuntos (polo menos) 2 triángulos e\n",
    "    sen que nunca un pentágono vaia seguido dun círculo (no sentido das agullas do reloxo)\n",
    "    \"\"\"\n",
    "    # YOUR CODE HERE\n",
    "    return [''.join(i) for i in Permutations('T'*t+'C'*c+'P'*p, t+p+c) if test1(i)==True and test2(i)==True]"
   ]
  },
  {
   "cell_type": "code",
   "execution_count": 0,
   "metadata": {
    "collapsed": false
   },
   "outputs": [
   ],
   "source": [
    "from nose.tools import assert_equal\n",
    "assert_equal('CTTP' in red(2,1,1), False)\n",
    "assert_equal('TCTP' in red(2,1,1), False)\n",
    "assert_equal('TCPT' in red(2,1,1), True)\n"
   ]
  },
  {
   "cell_type": "code",
   "execution_count": 0,
   "metadata": {
    "collapsed": false
   },
   "outputs": [
   ],
   "source": [
    "Pregunta 1\n",
    "\n",
    "Para definir a función num\n",
    "\n",
    "    usa a variable cifras para cargar as cifras en base decimal do parámetro a\n",
    "\n",
    "    usa variable letra para cargar o resto de dividir o parámetro a entre 23\n",
    "\n",
    "    engádelle este resto cifras (pola dereita) dúas veces\n",
    "\n",
    "    determina o número que en base 23 ten a cifras como cifras\n",
    "\n",
    "    retorna este número"
   ]
  },
  {
   "cell_type": "code",
   "execution_count": 0,
   "metadata": {
    "collapsed": false
   },
   "outputs": [
   ],
   "source": [
    "def num(a):\n",
    "    \"\"\"\n",
    "    sendo a un enteiro non negativo,\n",
    "    fabrica un número seguindo as\n",
    "    intrucións dadas no enunciado anterior\n",
    "    \"\"\"\n",
    "    # YOUR CODE HERE\n",
    "    cifras=a.digits(10)\n",
    "    letra=a%23\n",
    "    cifras.append(letra)\n",
    "    cifras.append(letra)\n",
    "    numero=ZZ(cifras,23)\n",
    "    return numero"
   ]
  },
  {
   "cell_type": "code",
   "execution_count": 0,
   "metadata": {
    "collapsed": false
   },
   "outputs": [
   ],
   "source": [
    "# Algúns tests que debe pasar a túa función\n",
    "# Check that squares returns the correct output for several inputs:\n",
    "from nose.tools import assert_equal\n",
    "assert_equal(num(0),0)\n",
    "assert_equal(num(1),553)\n",
    "assert_equal(num(2),2+2*23+2*23^2)"
   ]
  },
  {
   "cell_type": "code",
   "execution_count": 0,
   "metadata": {
    "collapsed": false
   },
   "outputs": [
   ],
   "source": [
    "Pregunta 2\n",
    "\n",
    "Define unha función que, para un número nn devolve o menor de todos os primos maiores ca n²"
   ]
  },
  {
   "cell_type": "code",
   "execution_count": 0,
   "metadata": {
    "collapsed": false
   },
   "outputs": [
   ],
   "source": [
    "def p2primo(n):  \n",
    "    \"\"\"\n",
    "    sendo n un número enteiro non negativo,\n",
    "    devolve o menor dos primos maiores ca n^2\n",
    "    \"\"\"\n",
    "    # YOUR CODE HERE\n",
    "    p=n^2\n",
    "    return next_prime(p)"
   ]
  },
  {
   "cell_type": "code",
   "execution_count": 0,
   "metadata": {
    "collapsed": false
   },
   "outputs": [
   ],
   "source": [
    "from nose.tools import assert_equal\n",
    "assert_equal(p2primo(1), 2)\n",
    "assert_equal(p2primo(11), 127)"
   ]
  },
  {
   "cell_type": "code",
   "execution_count": 0,
   "metadata": {
    "collapsed": false
   },
   "outputs": [
   ],
   "source": [
    "A túa clave pública\n",
    "\n",
    "Imos definir a túa clave pública a partir do teu dni.\n",
    "Pregunta 3\n",
    "\n",
    "define a función pub(a) como segue\n",
    "\n",
    "    define a variable p como p2primo(a)\n",
    "\n",
    "    define a variable q como p2primo(num(a))\n",
    "\n",
    "    define a variable n como p*q\n",
    "\n",
    "    define a variable e como 13\n",
    "\n",
    "    se NON existe o inverso de e módulo (p-1)*(q-1), proba sucesivamente con 17, 21, 25,… ata atopar o primeiro valor para o que existe o inverso pedido\n",
    "\n",
    "    retorna a lista [e, n]"
   ]
  },
  {
   "cell_type": "code",
   "execution_count": 0,
   "metadata": {
    "collapsed": false
   },
   "outputs": [
   ],
   "source": [
    "def pub(a):  # modify function name and parameters\n",
    "    \"\"\"\n",
    "    A partir do número enteiro positivo a,\n",
    "    define unha clave pública seguindo as\n",
    "    especificacións do enunciado anterior\n",
    "    \"\"\"\n",
    "    # YOUR CODE HERE\n",
    "    p=p2primo(a)\n",
    "    q=p2primo(num(a))\n",
    "    n=p*q\n",
    "    e=13\n",
    "    phi=(p-1)*(q-1)\n",
    "    while (gcd(e,phi) != 1):\n",
    "        e=e+4\n",
    "    return[e,n]"
   ]
  },
  {
   "cell_type": "code",
   "execution_count": 0,
   "metadata": {
    "collapsed": false
   },
   "outputs": [
   ],
   "source": [
    "from nose.tools import assert_equal\n",
    "assert_equal(pub(1), [13, 611642])\n",
    "assert_equal(pub(111), [13, 379402091203193809])"
   ]
  },
  {
   "cell_type": "code",
   "execution_count": 0,
   "metadata": {
    "collapsed": false
   },
   "outputs": [
   ],
   "source": [
   ]
  },
  {
   "cell_type": "code",
   "execution_count": 0,
   "metadata": {
    "collapsed": false
   },
   "outputs": [
   ],
   "source": [
   ]
  }
 ],
 "metadata": {
  "kernelspec": {
   "argv": [
    "sage-10.3",
    "--python",
    "-m",
    "sage.repl.ipython_kernel",
    "--matplotlib=inline",
    "-f",
    "{connection_file}"
   ],
   "display_name": "SageMath 10.3",
   "env": {
   },
   "language": "sagemath",
   "metadata": {
    "cocalc": {
     "description": "Open-source mathematical software system",
     "priority": 10,
     "url": "https://www.sagemath.org/"
    }
   },
   "name": "sage-10.3",
   "resource_dir": "/ext/jupyter/kernels/sage-10.3"
  }
 },
 "nbformat": 4,
 "nbformat_minor": 4
}
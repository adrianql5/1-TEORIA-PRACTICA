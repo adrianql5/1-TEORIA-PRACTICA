{
 "cells": [
  {
   "cell_type": "code",
   "execution_count": 0,
   "id": "fdab96",
   "metadata": {
    "collapsed": false
   },
   "outputs": [
   ],
   "source": [
    "Construír con SageMath a lista C4x4 formada por as dúas listas que representen posibles colocacións de 4 moedas en columnas distintas e en filas distintas, de xeito que non estean en cadros contiguos, é dicir, que non se toquen ningún dos vértices."
   ]
  },
  {
   "cell_type": "code",
   "execution_count": 13,
   "id": "aae20d",
   "metadata": {
    "collapsed": false
   },
   "outputs": [
   ],
   "source": [
    "C4x4=[[2,4,1,3],[3,1,4,2]]"
   ]
  },
  {
   "cell_type": "code",
   "execution_count": 41,
   "id": "6379be",
   "metadata": {
    "collapsed": false
   },
   "outputs": [
    {
     "data": {
      "text/plain": [
       "[[2, 4, 1, 3], [3, 1, 4, 2]]"
      ]
     },
     "execution_count": 41,
     "metadata": {
     },
     "output_type": "execute_result"
    }
   ],
   "source": [
    "L=[p for p in Permutations(4) if test(p)==True]\n",
    "L"
   ]
  },
  {
   "cell_type": "code",
   "execution_count": 15,
   "id": "780c9f",
   "metadata": {
    "collapsed": false
   },
   "outputs": [
   ],
   "source": [
    "# Algúns exemplos para comprobar que check devolve a resposta correcta:\n",
    "from nose.tools import assert_equal\n",
    "assert_equal([2,4,1,3] in C4x4, True)\n",
    "assert_equal([1,3,4,2] in C4x4, False)"
   ]
  },
  {
   "cell_type": "code",
   "execution_count": 0,
   "id": "64f146",
   "metadata": {
    "collapsed": false
   },
   "outputs": [
   ],
   "source": [
    "Definir a función test que collida unha lista coas colocacións de nn moedas nunha retícula n×n en filas e columnas diferentes, devolve True se e non hai dúas moedas en cuadros contiguos"
   ]
  },
  {
   "cell_type": "code",
   "execution_count": 37,
   "id": "f37242",
   "metadata": {
    "collapsed": false
   },
   "outputs": [
   ],
   "source": [
    "def test(L):\n",
    "    for i in range(len(L)-1):\n",
    "        if abs(L[i]-L[i+1])<2:\n",
    "            return False\n",
    "    \n",
    "    return True\n",
    "    "
   ]
  },
  {
   "cell_type": "code",
   "execution_count": 38,
   "id": "143ddd",
   "metadata": {
    "collapsed": false
   },
   "outputs": [
   ],
   "source": [
    "# podes usar esta función para visualizar a colocación das moedas a partir dunha lista\n",
    "def taboa(L):\n",
    "    n = len(L)\n",
    "    M = [[' ' for i in range(n)] for j in range(n)]\n",
    "    j = 0\n",
    "    for i in L:\n",
    "        M[i-1][j] = 'O'\n",
    "        j += 1\n",
    "    return table(M,frame=True)"
   ]
  },
  {
   "cell_type": "code",
   "execution_count": 39,
   "id": "6fc4fa",
   "metadata": {
    "collapsed": false
   },
   "outputs": [
    {
     "data": {
      "text/html": [
       "<div class=\"notruncate\">\n",
       "<table border=\"1\" class=\"table_form\">\n",
       "<tbody>\n",
       "<tr class =\"row-a\">\n",
       "<td style=\"text-align:left\"> </td>\n",
       "<td style=\"text-align:left\"> </td>\n",
       "<td style=\"text-align:left\"> </td>\n",
       "<td style=\"text-align:left\">O</td>\n",
       "</tr>\n",
       "<tr class =\"row-b\">\n",
       "<td style=\"text-align:left\"> </td>\n",
       "<td style=\"text-align:left\">O</td>\n",
       "<td style=\"text-align:left\"> </td>\n",
       "<td style=\"text-align:left\"> </td>\n",
       "</tr>\n",
       "<tr class =\"row-a\">\n",
       "<td style=\"text-align:left\">O</td>\n",
       "<td style=\"text-align:left\"> </td>\n",
       "<td style=\"text-align:left\"> </td>\n",
       "<td style=\"text-align:left\"> </td>\n",
       "</tr>\n",
       "<tr class =\"row-b\">\n",
       "<td style=\"text-align:left\"> </td>\n",
       "<td style=\"text-align:left\"> </td>\n",
       "<td style=\"text-align:left\">O</td>\n",
       "<td style=\"text-align:left\"> </td>\n",
       "</tr>\n",
       "</tbody>\n",
       "</table>\n",
       "</div>"
      ],
      "text/plain": [
       "┌───┬───┬───┬───┐\n",
       "│   |   |   | O |\n",
       "├───┼───┼───┼───┤\n",
       "│   | O |   |   |\n",
       "├───┼───┼───┼───┤\n",
       "│ O |   |   |   |\n",
       "├───┼───┼───┼───┤\n",
       "│   |   | O |   |\n",
       "└───┴───┴───┴───┘"
      ]
     },
     "execution_count": 39,
     "metadata": {
     },
     "output_type": "execute_result"
    }
   ],
   "source": [
    "#exemplo\n",
    "taboa([3,2,4,1])"
   ]
  },
  {
   "cell_type": "code",
   "execution_count": 40,
   "id": "4992ba",
   "metadata": {
    "collapsed": false
   },
   "outputs": [
   ],
   "source": [
    "# Comproba que test devolve o valor correcto en algúns exemplos:\n",
    "from nose.tools import assert_equal\n",
    "assert_equal(test([2,4,1,3]), True)\n",
    "assert_equal(test([1, 3, 5, 2, 4]), True)\n",
    "assert_equal(test([3,2,4,1]), False)\n"
   ]
  },
  {
   "cell_type": "code",
   "execution_count": 0,
   "id": "38b9a3",
   "metadata": {
    "collapsed": false
   },
   "outputs": [
   ],
   "source": [
    "Define a función div que para números enteiros, a,b e c, devolve a lista ordenada dos enteiros m>c que son divisores de a ou b."
   ]
  },
  {
   "cell_type": "code",
   "execution_count": 38,
   "id": "97371b",
   "metadata": {
    "collapsed": false
   },
   "outputs": [
   ],
   "source": [
    "def div(a,b,c):\n",
    "    L=[]\n",
    "    m=1\n",
    "    for i in range(max(a,b)):\n",
    "        if (a%m==0 or b%m==0) and m>c:\n",
    "            L.append(m)\n",
    "        m=m+1\n",
    "    return L"
   ]
  },
  {
   "cell_type": "code",
   "execution_count": 0,
   "id": "12a392",
   "metadata": {
    "collapsed": false
   },
   "outputs": [
   ],
   "source": [
   ]
  },
  {
   "cell_type": "code",
   "execution_count": 39,
   "id": "208392",
   "metadata": {
    "collapsed": false
   },
   "outputs": [
   ],
   "source": [
    "### Algúns tests que debe pasar a túa función\n",
    "from nose.tools import assert_equal\n",
    "assert_equal(div(10,10,3) == [10,5], False)\n",
    "assert_equal(div(8,10,3),[4,5,8,10])\n",
    "assert_equal(len(div(2000,36,11)),17)"
   ]
  },
  {
   "cell_type": "code",
   "execution_count": 0,
   "id": "6da7fc",
   "metadata": {
    "collapsed": false
   },
   "outputs": [
   ],
   "source": [
    "Sen usar a función str, definir a función e_cap que dado un número enteiro positivo nn nos devolve True se un número capicúa e False, se non o é. (Un número dise que é capicúa se as súas cifras lidas de esquerda a dereita e de dereita a esquerda coinciden. Exemplos: 123321, 4, 808, …)"
   ]
  },
  {
   "cell_type": "code",
   "execution_count": 40,
   "id": "33a20f",
   "metadata": {
    "collapsed": false
   },
   "outputs": [
   ],
   "source": [
    "def e_cap(n):\n",
    "    L=n.digits(10)\n",
    "    Linv=L[::-1]\n",
    "    \n",
    "    if L==Linv:\n",
    "        return True\n",
    "    else:\n",
    "        return False"
   ]
  },
  {
   "cell_type": "code",
   "execution_count": 41,
   "id": "c1cb4b",
   "metadata": {
    "collapsed": false
   },
   "outputs": [
   ],
   "source": [
    "### algúns tests para a túa función\n",
    "from nose.tools import assert_equal\n",
    "assert_equal(e_cap(1), True)\n",
    "assert_equal(e_cap(121), True)"
   ]
  },
  {
   "cell_type": "code",
   "execution_count": 0,
   "id": "d21b3d",
   "metadata": {
    "collapsed": false
   },
   "outputs": [
   ],
   "source": [
    " Algoritmos recursivos\n",
    "\n",
    "Vimos na clase que o número de maneiras de repartir nn moedas de 1€ entre kk persoas era igual ao número de solucións da ecuación x1+⋯+xk=nx1​+⋯+xk​=n\n",
    "\n",
    "Dada a cadea 0 0 0 1 0 1 1 0, podemos pensala coma un posible reparto de 5 ceros en catro caixas distintas, da forma 3+1+0+13+1+0+1, onde os uns representan separadores de caixas, e os ceros son os obxectos en cada caixa.\n",
    "\n",
    "Polo tanto, o número pedido coicidirá co número de formas de elixir os k−1 bits con valor 1 entre os n+k−1 totais.\n",
    "Pregunta 5.           (3 ptos.)\n",
    "\n",
    "Definir a función nr que para cada par denúmeros enteiros non negativos, (n,k), nos devolve o número de formas en que n moedas de 1€ se poden repartir entre k persoas,\n",
    "\n",
    "mediante un algoritmo recursivo "
   ]
  },
  {
   "cell_type": "code",
   "execution_count": 46,
   "id": "02b458",
   "metadata": {
    "collapsed": false
   },
   "outputs": [
   ],
   "source": [
    "def nr(n,k):\n",
    "    if n==0: return 1\n",
    "    elif k==0: return 0\n",
    "    else:\n",
    "        x=k-1+n\n",
    "        y=k-1\n",
    "        if x==y or y==0: return 1\n",
    "        else: return nr(x-1,y-1)+nr(x-1,y)"
   ]
  },
  {
   "cell_type": "code",
   "execution_count": 47,
   "id": "7c0ec4",
   "metadata": {
    "collapsed": false
   },
   "outputs": [
   ],
   "source": [
    "### Algúns tests para probar a túa función\n",
    "from nose.tools import assert_equal\n",
    "assert_equal(nr(1,0),0)\n",
    "assert_equal(nr(10,1),1)\n",
    "assert_equal(nr(0,3),1)"
   ]
  },
  {
   "cell_type": "code",
   "execution_count": 48,
   "id": "3c21f2",
   "metadata": {
    "collapsed": false
   },
   "outputs": [
   ],
   "source": [
    "### comprobocións adicionais\n",
    "from nose.tools import assert_equal\n",
    "assert_equal(nr(1,5),5)\n",
    "\n",
    "# Test para comprobar que non usas a función binomial\n",
    "from unittest.mock import patch\n",
    "with patch('__main__.binomial') as mock_binomial:\n",
    "    nr(7,3)\n",
    "mock_binomial.assert_not_called()"
   ]
  },
  {
   "cell_type": "code",
   "execution_count": 0,
   "id": "54f123",
   "metadata": {
    "collapsed": false
   },
   "outputs": [
   ],
   "source": [
   ]
  }
 ],
 "metadata": {
  "kernelspec": {
   "argv": [
    "sage-10.3",
    "--python",
    "-m",
    "sage.repl.ipython_kernel",
    "--matplotlib=inline",
    "-f",
    "{connection_file}"
   ],
   "display_name": "SageMath 10.3",
   "env": {
   },
   "language": "sagemath",
   "metadata": {
    "cocalc": {
     "description": "Open-source mathematical software system",
     "priority": 2,
     "url": "https://www.sagemath.org/"
    }
   },
   "name": "sage-10.3",
   "resource_dir": "/ext/jupyter/kernels/sage-10.3"
  }
 },
 "nbformat": 4,
 "nbformat_minor": 4
}

{
 "cells": [
  {
   "cell_type": "code",
   "execution_count": 0,
   "id": "7cc3a2",
   "metadata": {
    "collapsed": false
   },
   "outputs": [
   ],
   "source": [
    "Pregunta 1 (1 + 1 ptos)\n",
    "\n",
    "    Constrúe con Sage todas as listas de lonxitude 7 formadas con números de unha cifra (listas de 7 díxitos) coa condición de que o producto dos seus elementos sexa 35. Determina cantas hai.\n",
    "\n",
    "    O mesmo de antes, pero con producto igual a 30.\n"
   ]
  },
  {
   "cell_type": "code",
   "execution_count": 16,
   "id": "15fc8c",
   "metadata": {
    "collapsed": false
   },
   "outputs": [
    {
     "data": {
      "text/plain": [
       "5 * 7"
      ]
     },
     "execution_count": 16,
     "metadata": {
     },
     "output_type": "execute_result"
    }
   ],
   "source": [
    "factor(35)"
   ]
  },
  {
   "cell_type": "code",
   "execution_count": 20,
   "id": "1555c8",
   "metadata": {
    "collapsed": false
   },
   "outputs": [
    {
     "data": {
      "text/plain": [
       "42"
      ]
     },
     "execution_count": 20,
     "metadata": {
     },
     "output_type": "execute_result"
    }
   ],
   "source": [
    "L35=[''.join(p) for p in Permutations('1111157')]\n",
    "len(L35)"
   ]
  },
  {
   "cell_type": "code",
   "execution_count": 21,
   "id": "63800e",
   "metadata": {
    "collapsed": false
   },
   "outputs": [
    {
     "data": {
      "text/plain": [
       "2 * 3 * 5"
      ]
     },
     "execution_count": 21,
     "metadata": {
     },
     "output_type": "execute_result"
    }
   ],
   "source": [
    "factor(30)"
   ]
  },
  {
   "cell_type": "code",
   "execution_count": 26,
   "id": "ad2d58",
   "metadata": {
    "collapsed": false
   },
   "outputs": [
    {
     "data": {
      "text/plain": [
       "252"
      ]
     },
     "execution_count": 26,
     "metadata": {
     },
     "output_type": "execute_result"
    }
   ],
   "source": [
    "L30=[''.join(p) for p in Permutations('2351111')]+[''.join(p) for p in Permutations('6511111')]\n",
    "len(L30)"
   ]
  },
  {
   "cell_type": "code",
   "execution_count": 0,
   "id": "10d6c2",
   "metadata": {
    "collapsed": false
   },
   "outputs": [
   ],
   "source": [
    "Pregunta 2 (1 + 1.5 ptos)\n",
    "\n",
    "    Define unha función que tome un par de números (b,c) e devolva todas as listas de 7 díxitos cuxo producto sexa (5^b)*(7^c)\n",
    "\n",
    "    Define outra función que tome unha terna de números (a,b,c) e devolva todas as listas de 7 díxitos cuxo producto sexa (3^a)*(5^b)*(7^c)"
   ]
  },
  {
   "cell_type": "code",
   "execution_count": 27,
   "id": "69c58f",
   "metadata": {
    "collapsed": false
   },
   "outputs": [
   ],
   "source": [
    "def f1(b,c):\n",
    "    return [''.join(p) for p in Permutations('5'*b+'7'*c,7)]"
   ]
  },
  {
   "cell_type": "code",
   "execution_count": 0,
   "id": "d7c5fb",
   "metadata": {
    "collapsed": false
   },
   "outputs": [
   ],
   "source": [
   ]
  },
  {
   "cell_type": "code",
   "execution_count": 28,
   "id": "c03cfb",
   "metadata": {
    "collapsed": false
   },
   "outputs": [
   ],
   "source": [
    "def f2(a,b,c):\n",
    "    return [''.join(p) for p in Permutations('3'*a+'5'*b+'7'*c,7)]"
   ]
  },
  {
   "cell_type": "code",
   "execution_count": 0,
   "id": "23d1a2",
   "metadata": {
    "collapsed": false
   },
   "outputs": [
   ],
   "source": [
    "\n",
    "Pregunta 3 (1.5 + 2 ptos)\n",
    "\n",
    "    Para dous números k e n, define unha función que nos devolva todas as listas de lonxitude k formadas con díxitos cuxo producto é n, sabendo que os únicos primos que dividen a n son 5 e 7.\n",
    "\n",
    "    Define outra función como a de antes pero se os únicos primos que dividen a n son 3, 5 e 7.\n"
   ]
  },
  {
   "cell_type": "code",
   "execution_count": 54,
   "id": "43464e",
   "metadata": {
    "collapsed": false
   },
   "outputs": [
   ],
   "source": [
    "def f(k,n):\n",
    "    x=factor(n)[0][1]\n",
    "    y=factor(n)[1][1]\n",
    "    return[''.join(p) for p in Permutations('5'*x+'7'*y+'1'*(k-x-y),k)]"
   ]
  },
  {
   "cell_type": "code",
   "execution_count": 60,
   "id": "a4f7a4",
   "metadata": {
    "collapsed": false
   },
   "outputs": [
   ],
   "source": [
    "def f1(k,n):\n",
    "    x=factor(n)[0][1]\n",
    "    y=factor(n)[1][1]\n",
    "    z=factor(n)[2][1]\n",
    "    \n",
    "    return[''.join(p) for p in Permutations('3'*x+'5'*y+'7'*z+'1'*(k-x-y-z),k)]"
   ]
  },
  {
   "cell_type": "code",
   "execution_count": 61,
   "id": "356c70",
   "metadata": {
    "collapsed": false
   },
   "outputs": [
    {
     "data": {
      "text/plain": [
       "1"
      ]
     },
     "execution_count": 61,
     "metadata": {
     },
     "output_type": "execute_result"
    }
   ],
   "source": [
    "factor(3^3*5*7^2)[1][1]"
   ]
  },
  {
   "cell_type": "code",
   "execution_count": 0,
   "id": "3ceb78",
   "metadata": {
    "collapsed": false
   },
   "outputs": [
   ],
   "source": [
    "Define de modo recursivo a función bin que para cada par de números enteiros non negativos, (n,k), nos devolva 0, se n<k, e o coeficiente binomial, n!/((n-k)!*k!) , noutro caso.\n",
    "\n",
    "\n",
    "\n",
    "A partir da definición dos coeficientes binomiais vese que, se n>k\n",
    "n!/((n-k)!*k!)=(n/(n-k))*((n-1)!/((n-1-k)!*k!))\n"
   ]
  },
  {
   "cell_type": "code",
   "execution_count": 66,
   "id": "e40a38",
   "metadata": {
    "collapsed": false
   },
   "outputs": [
   ],
   "source": [
    "def bin(n,k):\n",
    "    if n<k: return 0\n",
    "    elif n==k: return 1\n",
    "    else: return (n/(n-k))*bin(n-1,k)"
   ]
  },
  {
   "cell_type": "code",
   "execution_count": 69,
   "id": "3dd02e",
   "metadata": {
    "collapsed": false
   },
   "outputs": [
   ],
   "source": [
    "def capicua(n):\n",
    "    L=n.digits(10)\n",
    "    Linv=L[::-1]\n",
    "    if L==Linv: return True\n",
    "    else: return False"
   ]
  },
  {
   "cell_type": "code",
   "execution_count": 70,
   "id": "743ea3",
   "metadata": {
    "collapsed": false
   },
   "outputs": [
    {
     "data": {
      "text/plain": [
       "True"
      ]
     },
     "execution_count": 70,
     "metadata": {
     },
     "output_type": "execute_result"
    }
   ],
   "source": [
    "capicua(1234321)"
   ]
  },
  {
   "cell_type": "code",
   "execution_count": 87,
   "id": "379c1e",
   "metadata": {
    "collapsed": false
   },
   "outputs": [
   ],
   "source": [
    "def palindromo(str):\n",
    "    L = list(str)\n",
    "    Linv = L[::-1]\n",
    "    if L == Linv:return True\n",
    "    else:return False\n",
    "    "
   ]
  },
  {
   "cell_type": "code",
   "execution_count": 88,
   "id": "15da72",
   "metadata": {
    "collapsed": false
   },
   "outputs": [
    {
     "data": {
      "text/plain": [
       "True"
      ]
     },
     "execution_count": 88,
     "metadata": {
     },
     "output_type": "execute_result"
    }
   ],
   "source": [
    "palindromo('ASA')"
   ]
  },
  {
   "cell_type": "code",
   "execution_count": 0,
   "id": "35c1db",
   "metadata": {
    "collapsed": false
   },
   "outputs": [
   ],
   "source": [
    "Unha lista dise que é palindrómica se ten lonxitude maior ca 0 e os seus elementos lidos de esquerda a dereita e de dereita a esquerda coinciden.\n",
    "\n",
    "Exemplos: $[1,0,0,1], [2], [a,b,5,b,a], [10,5,10], \\dots$\n",
    "\n",
    "\n",
    "1. Constrúe con Sage todas as listas palindrómicas de lonxitude menor ou igual ca 4 cuxos elementos son números díxitos (nos exemplos anteriores, nin os elementos da terceira lista nin os da cuarta son díxitos).\n",
    "2. Cantas hai?"
   ]
  },
  {
   "cell_type": "markdown",
   "id": "47a7f3",
   "metadata": {
    "collapsed": false
   },
   "source": [
   ]
  },
  {
   "cell_type": "code",
   "execution_count": 3,
   "id": "f25a77",
   "metadata": {
    "collapsed": false
   },
   "outputs": [
   ],
   "source": [
    "def testpal(c):\n",
    "    L=list(c)\n",
    "    Linv=L[::-1]\n",
    "    if L==Linv: return True\n",
    "    else: return False\n",
    "\n",
    "def pal():\n",
    "    return [''.join(p) for p in Permutations(int('123456789'),1) if testpal(p)==True]+[''.join(p) for p in Permutations(int('123456789')*2,2) if testpal(p)==True]+[''.join(p) for p in Permutations(int('123456789')*3,3) if testpal(p)==True]+[''.join(p) for p in Permutations(int('123456789')*4,4) if testpal(p)==True]\n"
   ]
  },
  {
   "cell_type": "code",
   "execution_count": 0,
   "id": "1c0b59",
   "metadata": {
    "collapsed": false
   },
   "outputs": [
   ],
   "source": [
    "l=pal()\n",
    "l"
   ]
  },
  {
   "cell_type": "markdown",
   "id": "8b01b4",
   "metadata": {
    "collapsed": false
   },
   "source": [
    "## *opción A*\n",
    "\n",
    "1. Define a función **p3p** que colle unha lista *L* de 3 elementos e devolve a lista palindrómica **p3p**(*L*) de lonxitude 6 que resulta de engadirlle a *L* pola dereita os seus elementos en orden contraria: **p3p**([1,2,3]) = [1,2,3,3,2,1]\n",
    "\n",
    "2. Define a función **palin** que colle unha lista *L* de $n$ elementos e devolve a lista palindrómica **palin**(*L*) de lonxitude $2\\times n$ que resulta de engadirlle a *L* pola dereita os seus elementos en orden inversa."
   ]
  },
  {
   "cell_type": "code",
   "execution_count": 15,
   "id": "db61f4",
   "metadata": {
    "collapsed": false
   },
   "outputs": [
   ],
   "source": [
    "def p3p(L):\n",
    "    L_inv=L[::-1]\n",
    "    for i in range(len(L)):\n",
    "        L.append(L_inv[i])\n",
    "    return L"
   ]
  },
  {
   "cell_type": "code",
   "execution_count": 16,
   "id": "f560f9",
   "metadata": {
    "collapsed": false
   },
   "outputs": [
    {
     "data": {
      "text/plain": [
       "[1, 2, 3, 3, 2, 1]"
      ]
     },
     "execution_count": 16,
     "metadata": {
     },
     "output_type": "execute_result"
    }
   ],
   "source": [
    "p3p([1,2,3])"
   ]
  },
  {
   "cell_type": "code",
   "execution_count": 17,
   "id": "a276e5",
   "metadata": {
    "collapsed": false
   },
   "outputs": [
   ],
   "source": [
    "def palin(L):\n",
    "    L_inv=L[::-1]\n",
    "    for i in range(len(L)):\n",
    "        L.append(L_inv[i])\n",
    "    return L"
   ]
  },
  {
   "cell_type": "code",
   "execution_count": 18,
   "id": "5fe6fb",
   "metadata": {
    "collapsed": false
   },
   "outputs": [
    {
     "data": {
      "text/plain": [
       "[1, 2, 5, 4, 4, 5, 2, 1]"
      ]
     },
     "execution_count": 18,
     "metadata": {
     },
     "output_type": "execute_result"
    }
   ],
   "source": [
    "palin([1,2,5,4])"
   ]
  },
  {
   "cell_type": "code",
   "execution_count": 0,
   "id": "2ca573",
   "metadata": {
    "collapsed": false
   },
   "outputs": [
   ],
   "source": [
    "*opción B*\n",
    "\n",
    "1. Define a función **palindro** que dado un número enteiro positivo $n$ nos fabrica todas as listas palindrómicas de lonxitude $n$ formadas con números díxitos.\n",
    "︡enteiro positivo $n$ nos fabrica todas as listas palindrómicas de lonxitude $n$ formadas con números díxitos.\\n\"}︡"
   ]
  },
  {
   "cell_type": "code",
   "execution_count": 24,
   "id": "66bad9",
   "metadata": {
    "collapsed": false
   },
   "outputs": [
   ],
   "source": [
    "def testpal(c):\n",
    "    L=list(c)\n",
    "    Linv=L[::-1]\n",
    "    if L==Linv: return True\n",
    "    else: return False\n",
    "\n",
    "def palindro(n):\n",
    "    return[''.join(p) for p in Permutations('123456789'*n,n) if testpal(p)==True]"
   ]
  },
  {
   "cell_type": "code",
   "execution_count": 27,
   "id": "9921cc",
   "metadata": {
    "collapsed": false
   },
   "outputs": [
    {
     "data": {
      "text/plain": [
       "729"
      ]
     },
     "execution_count": 27,
     "metadata": {
     },
     "output_type": "execute_result"
    }
   ],
   "source": [
    "len(palindro(5))"
   ]
  },
  {
   "cell_type": "code",
   "execution_count": 26,
   "id": "18bf18",
   "metadata": {
    "collapsed": false
   },
   "outputs": [
    {
     "data": {
      "text/plain": [
       "['11111',\n",
       " '11211',\n",
       " '11311',\n",
       " '11411',\n",
       " '11511',\n",
       " '11611',\n",
       " '11711',\n",
       " '11811',\n",
       " '11911',\n",
       " '12121',\n",
       " '12221',\n",
       " '12321',\n",
       " '12421',\n",
       " '12521',\n",
       " '12621',\n",
       " '12721',\n",
       " '12821',\n",
       " '12921',\n",
       " '13131',\n",
       " '13231',\n",
       " '13331',\n",
       " '13431',\n",
       " '13531',\n",
       " '13631',\n",
       " '13731',\n",
       " '13831',\n",
       " '13931',\n",
       " '14141',\n",
       " '14241',\n",
       " '14341',\n",
       " '14441',\n",
       " '14541',\n",
       " '14641',\n",
       " '14741',\n",
       " '14841',\n",
       " '14941',\n",
       " '15151',\n",
       " '15251',\n",
       " '15351',\n",
       " '15451',\n",
       " '15551',\n",
       " '15651',\n",
       " '15751',\n",
       " '15851',\n",
       " '15951',\n",
       " '16161',\n",
       " '16261',\n",
       " '16361',\n",
       " '16461',\n",
       " '16561',\n",
       " '16661',\n",
       " '16761',\n",
       " '16861',\n",
       " '16961',\n",
       " '17171',\n",
       " '17271',\n",
       " '17371',\n",
       " '17471',\n",
       " '17571',\n",
       " '17671',\n",
       " '17771',\n",
       " '17871',\n",
       " '17971',\n",
       " '18181',\n",
       " '18281',\n",
       " '18381',\n",
       " '18481',\n",
       " '18581',\n",
       " '18681',\n",
       " '18781',\n",
       " '18881',\n",
       " '18981',\n",
       " '19191',\n",
       " '19291',\n",
       " '19391',\n",
       " '19491',\n",
       " '19591',\n",
       " '19691',\n",
       " '19791',\n",
       " '19891',\n",
       " '19991',\n",
       " '21112',\n",
       " '21212',\n",
       " '21312',\n",
       " '21412',\n",
       " '21512',\n",
       " '21612',\n",
       " '21712',\n",
       " '21812',\n",
       " '21912',\n",
       " '22122',\n",
       " '22222',\n",
       " '22322',\n",
       " '22422',\n",
       " '22522',\n",
       " '22622',\n",
       " '22722',\n",
       " '22822',\n",
       " '22922',\n",
       " '23132',\n",
       " '23232',\n",
       " '23332',\n",
       " '23432',\n",
       " '23532',\n",
       " '23632',\n",
       " '23732',\n",
       " '23832',\n",
       " '23932',\n",
       " '24142',\n",
       " '24242',\n",
       " '24342',\n",
       " '24442',\n",
       " '24542',\n",
       " '24642',\n",
       " '24742',\n",
       " '24842',\n",
       " '24942',\n",
       " '25152',\n",
       " '25252',\n",
       " '25352',\n",
       " '25452',\n",
       " '25552',\n",
       " '25652',\n",
       " '25752',\n",
       " '25852',\n",
       " '25952',\n",
       " '26162',\n",
       " '26262',\n",
       " '26362',\n",
       " '26462',\n",
       " '26562',\n",
       " '26662',\n",
       " '26762',\n",
       " '26862',\n",
       " '26962',\n",
       " '27172',\n",
       " '27272',\n",
       " '27372',\n",
       " '27472',\n",
       " '27572',\n",
       " '27672',\n",
       " '27772',\n",
       " '27872',\n",
       " '27972',\n",
       " '28182',\n",
       " '28282',\n",
       " '28382',\n",
       " '28482',\n",
       " '28582',\n",
       " '28682',\n",
       " '28782',\n",
       " '28882',\n",
       " '28982',\n",
       " '29192',\n",
       " '29292',\n",
       " '29392',\n",
       " '29492',\n",
       " '29592',\n",
       " '29692',\n",
       " '29792',\n",
       " '29892',\n",
       " '29992',\n",
       " '31113',\n",
       " '31213',\n",
       " '31313',\n",
       " '31413',\n",
       " '31513',\n",
       " '31613',\n",
       " '31713',\n",
       " '31813',\n",
       " '31913',\n",
       " '32123',\n",
       " '32223',\n",
       " '32323',\n",
       " '32423',\n",
       " '32523',\n",
       " '32623',\n",
       " '32723',\n",
       " '32823',\n",
       " '32923',\n",
       " '33133',\n",
       " '33233',\n",
       " '33333',\n",
       " '33433',\n",
       " '33533',\n",
       " '33633',\n",
       " '33733',\n",
       " '33833',\n",
       " '33933',\n",
       " '34143',\n",
       " '34243',\n",
       " '34343',\n",
       " '34443',\n",
       " '34543',\n",
       " '34643',\n",
       " '34743',\n",
       " '34843',\n",
       " '34943',\n",
       " '35153',\n",
       " '35253',\n",
       " '35353',\n",
       " '35453',\n",
       " '35553',\n",
       " '35653',\n",
       " '35753',\n",
       " '35853',\n",
       " '35953',\n",
       " '36163',\n",
       " '36263',\n",
       " '36363',\n",
       " '36463',\n",
       " '36563',\n",
       " '36663',\n",
       " '36763',\n",
       " '36863',\n",
       " '36963',\n",
       " '37173',\n",
       " '37273',\n",
       " '37373',\n",
       " '37473',\n",
       " '37573',\n",
       " '37673',\n",
       " '37773',\n",
       " '37873',\n",
       " '37973',\n",
       " '38183',\n",
       " '38283',\n",
       " '38383',\n",
       " '38483',\n",
       " '38583',\n",
       " '38683',\n",
       " '38783',\n",
       " '38883',\n",
       " '38983',\n",
       " '39193',\n",
       " '39293',\n",
       " '39393',\n",
       " '39493',\n",
       " '39593',\n",
       " '39693',\n",
       " '39793',\n",
       " '39893',\n",
       " '39993',\n",
       " '41114',\n",
       " '41214',\n",
       " '41314',\n",
       " '41414',\n",
       " '41514',\n",
       " '41614',\n",
       " '41714',\n",
       " '41814',\n",
       " '41914',\n",
       " '42124',\n",
       " '42224',\n",
       " '42324',\n",
       " '42424',\n",
       " '42524',\n",
       " '42624',\n",
       " '42724',\n",
       " '42824',\n",
       " '42924',\n",
       " '43134',\n",
       " '43234',\n",
       " '43334',\n",
       " '43434',\n",
       " '43534',\n",
       " '43634',\n",
       " '43734',\n",
       " '43834',\n",
       " '43934',\n",
       " '44144',\n",
       " '44244',\n",
       " '44344',\n",
       " '44444',\n",
       " '44544',\n",
       " '44644',\n",
       " '44744',\n",
       " '44844',\n",
       " '44944',\n",
       " '45154',\n",
       " '45254',\n",
       " '45354',\n",
       " '45454',\n",
       " '45554',\n",
       " '45654',\n",
       " '45754',\n",
       " '45854',\n",
       " '45954',\n",
       " '46164',\n",
       " '46264',\n",
       " '46364',\n",
       " '46464',\n",
       " '46564',\n",
       " '46664',\n",
       " '46764',\n",
       " '46864',\n",
       " '46964',\n",
       " '47174',\n",
       " '47274',\n",
       " '47374',\n",
       " '47474',\n",
       " '47574',\n",
       " '47674',\n",
       " '47774',\n",
       " '47874',\n",
       " '47974',\n",
       " '48184',\n",
       " '48284',\n",
       " '48384',\n",
       " '48484',\n",
       " '48584',\n",
       " '48684',\n",
       " '48784',\n",
       " '48884',\n",
       " '48984',\n",
       " '49194',\n",
       " '49294',\n",
       " '49394',\n",
       " '49494',\n",
       " '49594',\n",
       " '49694',\n",
       " '49794',\n",
       " '49894',\n",
       " '49994',\n",
       " '51115',\n",
       " '51215',\n",
       " '51315',\n",
       " '51415',\n",
       " '51515',\n",
       " '51615',\n",
       " '51715',\n",
       " '51815',\n",
       " '51915',\n",
       " '52125',\n",
       " '52225',\n",
       " '52325',\n",
       " '52425',\n",
       " '52525',\n",
       " '52625',\n",
       " '52725',\n",
       " '52825',\n",
       " '52925',\n",
       " '53135',\n",
       " '53235',\n",
       " '53335',\n",
       " '53435',\n",
       " '53535',\n",
       " '53635',\n",
       " '53735',\n",
       " '53835',\n",
       " '53935',\n",
       " '54145',\n",
       " '54245',\n",
       " '54345',\n",
       " '54445',\n",
       " '54545',\n",
       " '54645',\n",
       " '54745',\n",
       " '54845',\n",
       " '54945',\n",
       " '55155',\n",
       " '55255',\n",
       " '55355',\n",
       " '55455',\n",
       " '55555',\n",
       " '55655',\n",
       " '55755',\n",
       " '55855',\n",
       " '55955',\n",
       " '56165',\n",
       " '56265',\n",
       " '56365',\n",
       " '56465',\n",
       " '56565',\n",
       " '56665',\n",
       " '56765',\n",
       " '56865',\n",
       " '56965',\n",
       " '57175',\n",
       " '57275',\n",
       " '57375',\n",
       " '57475',\n",
       " '57575',\n",
       " '57675',\n",
       " '57775',\n",
       " '57875',\n",
       " '57975',\n",
       " '58185',\n",
       " '58285',\n",
       " '58385',\n",
       " '58485',\n",
       " '58585',\n",
       " '58685',\n",
       " '58785',\n",
       " '58885',\n",
       " '58985',\n",
       " '59195',\n",
       " '59295',\n",
       " '59395',\n",
       " '59495',\n",
       " '59595',\n",
       " '59695',\n",
       " '59795',\n",
       " '59895',\n",
       " '59995',\n",
       " '61116',\n",
       " '61216',\n",
       " '61316',\n",
       " '61416',\n",
       " '61516',\n",
       " '61616',\n",
       " '61716',\n",
       " '61816',\n",
       " '61916',\n",
       " '62126',\n",
       " '62226',\n",
       " '62326',\n",
       " '62426',\n",
       " '62526',\n",
       " '62626',\n",
       " '62726',\n",
       " '62826',\n",
       " '62926',\n",
       " '63136',\n",
       " '63236',\n",
       " '63336',\n",
       " '63436',\n",
       " '63536',\n",
       " '63636',\n",
       " '63736',\n",
       " '63836',\n",
       " '63936',\n",
       " '64146',\n",
       " '64246',\n",
       " '64346',\n",
       " '64446',\n",
       " '64546',\n",
       " '64646',\n",
       " '64746',\n",
       " '64846',\n",
       " '64946',\n",
       " '65156',\n",
       " '65256',\n",
       " '65356',\n",
       " '65456',\n",
       " '65556',\n",
       " '65656',\n",
       " '65756',\n",
       " '65856',\n",
       " '65956',\n",
       " '66166',\n",
       " '66266',\n",
       " '66366',\n",
       " '66466',\n",
       " '66566',\n",
       " '66666',\n",
       " '66766',\n",
       " '66866',\n",
       " '66966',\n",
       " '67176',\n",
       " '67276',\n",
       " '67376',\n",
       " '67476',\n",
       " '67576',\n",
       " '67676',\n",
       " '67776',\n",
       " '67876',\n",
       " '67976',\n",
       " '68186',\n",
       " '68286',\n",
       " '68386',\n",
       " '68486',\n",
       " '68586',\n",
       " '68686',\n",
       " '68786',\n",
       " '68886',\n",
       " '68986',\n",
       " '69196',\n",
       " '69296',\n",
       " '69396',\n",
       " '69496',\n",
       " '69596',\n",
       " '69696',\n",
       " '69796',\n",
       " '69896',\n",
       " '69996',\n",
       " '71117',\n",
       " '71217',\n",
       " '71317',\n",
       " '71417',\n",
       " '71517',\n",
       " '71617',\n",
       " '71717',\n",
       " '71817',\n",
       " '71917',\n",
       " '72127',\n",
       " '72227',\n",
       " '72327',\n",
       " '72427',\n",
       " '72527',\n",
       " '72627',\n",
       " '72727',\n",
       " '72827',\n",
       " '72927',\n",
       " '73137',\n",
       " '73237',\n",
       " '73337',\n",
       " '73437',\n",
       " '73537',\n",
       " '73637',\n",
       " '73737',\n",
       " '73837',\n",
       " '73937',\n",
       " '74147',\n",
       " '74247',\n",
       " '74347',\n",
       " '74447',\n",
       " '74547',\n",
       " '74647',\n",
       " '74747',\n",
       " '74847',\n",
       " '74947',\n",
       " '75157',\n",
       " '75257',\n",
       " '75357',\n",
       " '75457',\n",
       " '75557',\n",
       " '75657',\n",
       " '75757',\n",
       " '75857',\n",
       " '75957',\n",
       " '76167',\n",
       " '76267',\n",
       " '76367',\n",
       " '76467',\n",
       " '76567',\n",
       " '76667',\n",
       " '76767',\n",
       " '76867',\n",
       " '76967',\n",
       " '77177',\n",
       " '77277',\n",
       " '77377',\n",
       " '77477',\n",
       " '77577',\n",
       " '77677',\n",
       " '77777',\n",
       " '77877',\n",
       " '77977',\n",
       " '78187',\n",
       " '78287',\n",
       " '78387',\n",
       " '78487',\n",
       " '78587',\n",
       " '78687',\n",
       " '78787',\n",
       " '78887',\n",
       " '78987',\n",
       " '79197',\n",
       " '79297',\n",
       " '79397',\n",
       " '79497',\n",
       " '79597',\n",
       " '79697',\n",
       " '79797',\n",
       " '79897',\n",
       " '79997',\n",
       " '81118',\n",
       " '81218',\n",
       " '81318',\n",
       " '81418',\n",
       " '81518',\n",
       " '81618',\n",
       " '81718',\n",
       " '81818',\n",
       " '81918',\n",
       " '82128',\n",
       " '82228',\n",
       " '82328',\n",
       " '82428',\n",
       " '82528',\n",
       " '82628',\n",
       " '82728',\n",
       " '82828',\n",
       " '82928',\n",
       " '83138',\n",
       " '83238',\n",
       " '83338',\n",
       " '83438',\n",
       " '83538',\n",
       " '83638',\n",
       " '83738',\n",
       " '83838',\n",
       " '83938',\n",
       " '84148',\n",
       " '84248',\n",
       " '84348',\n",
       " '84448',\n",
       " '84548',\n",
       " '84648',\n",
       " '84748',\n",
       " '84848',\n",
       " '84948',\n",
       " '85158',\n",
       " '85258',\n",
       " '85358',\n",
       " '85458',\n",
       " '85558',\n",
       " '85658',\n",
       " '85758',\n",
       " '85858',\n",
       " '85958',\n",
       " '86168',\n",
       " '86268',\n",
       " '86368',\n",
       " '86468',\n",
       " '86568',\n",
       " '86668',\n",
       " '86768',\n",
       " '86868',\n",
       " '86968',\n",
       " '87178',\n",
       " '87278',\n",
       " '87378',\n",
       " '87478',\n",
       " '87578',\n",
       " '87678',\n",
       " '87778',\n",
       " '87878',\n",
       " '87978',\n",
       " '88188',\n",
       " '88288',\n",
       " '88388',\n",
       " '88488',\n",
       " '88588',\n",
       " '88688',\n",
       " '88788',\n",
       " '88888',\n",
       " '88988',\n",
       " '89198',\n",
       " '89298',\n",
       " '89398',\n",
       " '89498',\n",
       " '89598',\n",
       " '89698',\n",
       " '89798',\n",
       " '89898',\n",
       " '89998',\n",
       " '91119',\n",
       " '91219',\n",
       " '91319',\n",
       " '91419',\n",
       " '91519',\n",
       " '91619',\n",
       " '91719',\n",
       " '91819',\n",
       " '91919',\n",
       " '92129',\n",
       " '92229',\n",
       " '92329',\n",
       " '92429',\n",
       " '92529',\n",
       " '92629',\n",
       " '92729',\n",
       " '92829',\n",
       " '92929',\n",
       " '93139',\n",
       " '93239',\n",
       " '93339',\n",
       " '93439',\n",
       " '93539',\n",
       " '93639',\n",
       " '93739',\n",
       " '93839',\n",
       " '93939',\n",
       " '94149',\n",
       " '94249',\n",
       " '94349',\n",
       " '94449',\n",
       " '94549',\n",
       " '94649',\n",
       " '94749',\n",
       " '94849',\n",
       " '94949',\n",
       " '95159',\n",
       " '95259',\n",
       " '95359',\n",
       " '95459',\n",
       " '95559',\n",
       " '95659',\n",
       " '95759',\n",
       " '95859',\n",
       " '95959',\n",
       " '96169',\n",
       " '96269',\n",
       " '96369',\n",
       " '96469',\n",
       " '96569',\n",
       " '96669',\n",
       " '96769',\n",
       " '96869',\n",
       " '96969',\n",
       " '97179',\n",
       " '97279',\n",
       " '97379',\n",
       " '97479',\n",
       " '97579',\n",
       " '97679',\n",
       " '97779',\n",
       " '97879',\n",
       " '97979',\n",
       " '98189',\n",
       " '98289',\n",
       " '98389',\n",
       " '98489',\n",
       " '98589',\n",
       " '98689',\n",
       " '98789',\n",
       " '98889',\n",
       " '98989',\n",
       " '99199',\n",
       " '99299',\n",
       " '99399',\n",
       " '99499',\n",
       " '99599',\n",
       " '99699',\n",
       " '99799',\n",
       " '99899',\n",
       " '99999']"
      ]
     },
     "execution_count": 26,
     "metadata": {
     },
     "output_type": "execute_result"
    }
   ],
   "source": [
    "palindro(5)"
   ]
  },
  {
   "cell_type": "code",
   "execution_count": 0,
   "id": "6cda52",
   "metadata": {
    "collapsed": false
   },
   "outputs": [
   ],
   "source": [
    "1. Define a función **nu** que colle unha lista de elementos números díxitos e devolve o número enteiro cuxas cifras, de esquerda a dereita, son os elementos da lista na mesma orde, tendo en conta que os ceros á esquerda nos números non se escriben, salvo que o número sexa 0: **nu**([1,2,3]) = 123, **nu**([0,0,2])= 2, **nu**([0,0,0]) = 0.\n",
    "\n",
    "2. Define a función **sumcap** que dado un número $n$ nos devolve a suma de todos os números capicúa menores ou iguales ca $n$. (Un número dise que é capicúa se as súas cifras lidas de esquerda a dereita e de dereita a esquerda coinciden. Exemplos: $123321, 4, 808, \\dots$)\n",
    "︡f5fda9f9-1dd8-451b-bc90-13c3c267db69︡{\"md\":\"**Pregunta 3**\\n\\n1. Define a función **nu** que colle unha lista de elementos números díxitos e devolve o número enteiro cuxas cifras, de esquerda a dereita, son os elementos da lista na mesma orde, tendo en conta que os ceros á esquerda nos números non se escriben, salvo que o número sexa 0: **nu**([1,2,3]) = 123, **nu**([0,0,2])= 2, **nu**([0,0,0]) = 0.\\n\\n2. Define a función **sumcap** que dado un número $n$ nos devolve a suma de todos os números capicúa menores ou iguales ca $n$. (Un número dise que é capicúa se as súas cifras lidas de esquerda a dereita e de dereita a esquerda coinciden. Exemplos: $123321, 4, 808, \\\\dots$)\\n\"}︡"
   ]
  },
  {
   "cell_type": "code",
   "execution_count": 5,
   "id": "c1d6c9",
   "metadata": {
    "collapsed": false
   },
   "outputs": [
   ],
   "source": [
    "def nu(L):\n",
    "    L_inv=L[::-1]\n",
    "    num=ZZ(L_inv,10)\n",
    "    return num"
   ]
  },
  {
   "cell_type": "code",
   "execution_count": 6,
   "id": "78144d",
   "metadata": {
    "collapsed": false
   },
   "outputs": [
    {
     "data": {
      "text/plain": [
       "123"
      ]
     },
     "execution_count": 6,
     "metadata": {
     },
     "output_type": "execute_result"
    }
   ],
   "source": [
    "nu([1,2,3])"
   ]
  },
  {
   "cell_type": "code",
   "execution_count": 7,
   "id": "dafcfe",
   "metadata": {
    "collapsed": false
   },
   "outputs": [
    {
     "data": {
      "text/plain": [
       "2"
      ]
     },
     "execution_count": 7,
     "metadata": {
     },
     "output_type": "execute_result"
    }
   ],
   "source": [
    "nu([0,0,2])"
   ]
  },
  {
   "cell_type": "code",
   "execution_count": 8,
   "id": "bb68e6",
   "metadata": {
    "collapsed": false
   },
   "outputs": [
   ],
   "source": [
    "def sumcap(n):\n",
    "    Laux=[]\n",
    "    while n>0:\n",
    "        L=n.digits(10)\n",
    "        Linv=L[::-1]\n",
    "        if L==Linv:\n",
    "            Laux.append(n)\n",
    "        n=n-1\n",
    "    x=sum(Laux)\n",
    "    return x"
   ]
  },
  {
   "cell_type": "code",
   "execution_count": 10,
   "id": "d13040",
   "metadata": {
    "collapsed": false
   },
   "outputs": [
    {
     "data": {
      "text/plain": [
       "50040"
      ]
     },
     "execution_count": 10,
     "metadata": {
     },
     "output_type": "execute_result"
    }
   ],
   "source": [
    "sumcap(1000)"
   ]
  },
  {
   "cell_type": "code",
   "execution_count": 0,
   "id": "c7469f",
   "metadata": {
    "collapsed": false
   },
   "outputs": [
   ],
   "source": [
   ]
  }
 ],
 "metadata": {
  "kernelspec": {
   "argv": [
    "sage-10.3",
    "--python",
    "-m",
    "sage.repl.ipython_kernel",
    "--matplotlib=inline",
    "-f",
    "{connection_file}"
   ],
   "display_name": "SageMath 10.3",
   "env": {
   },
   "language": "sagemath",
   "metadata": {
    "cocalc": {
     "description": "Open-source mathematical software system",
     "priority": 2,
     "url": "https://www.sagemath.org/"
    }
   },
   "name": "sage-10.3",
   "resource_dir": "/ext/jupyter/kernels/sage-10.3"
  }
 },
 "nbformat": 4,
 "nbformat_minor": 4
}

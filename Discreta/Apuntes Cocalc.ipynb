{
 "cells": [
  {
   "cell_type": "markdown",
   "id": "893f7e",
   "metadata": {
    "collapsed": false
   },
   "source": [
    "**LISTAS**"
   ]
  },
  {
   "cell_type": "code",
   "execution_count": 0,
   "id": "657470",
   "metadata": {
    "collapsed": false
   },
   "outputs": [
   ],
   "source": [
    "L=[] #crear lista, los ínidces empiezan por 0\n",
    "\n",
    "L.append(n) #añadir elemento n al final de la lista\n",
    "\n",
    "L.index(n) #devuelve la posicion de n en la lista\n",
    "\n",
    "len(L) #devuelve la ongitud de la lista\n",
    "\n",
    "Linv=L[::-1] #devuelve la lista inversa de L\n",
    "\n",
    "L1+L2 #combina las dos listas\n",
    "\n",
    "L[0] #accedemos al elemento de una lista\n",
    "\n",
    "L[1][0] #acceder al elemento de una lista dentro de una lista\n",
    "\n",
    "sum(L) #devueleve la suma de todos los elementos de una lista\n",
    "\n",
    "prod(L) #ddevuelve el producto de todos los elementos de una lista"
   ]
  },
  {
   "cell_type": "markdown",
   "id": "b4e167",
   "metadata": {
    "collapsed": false
   },
   "source": [
    "**RECURSOS ÚTILES**"
   ]
  },
  {
   "cell_type": "code",
   "execution_count": 0,
   "id": "8ee546",
   "metadata": {
    "collapsed": false
   },
   "outputs": [
   ],
   "source": [
    "factor(n) #nos devuelve el numero n factorizado como producto de primos, nos devuleve una lista con sublistas dentro, donde el primer elemento de la sublista es el primo y el segundo el exponente\n",
    "\n",
    "a%b #nos devuelve el resto de dividir a entre b\n",
    "\n",
    "a//b #nos devuelve el cociente entero de dividir a entre b\n",
    "\n",
    "list(str) #le pasamos una string y nos devuelve una lista con los caracteres de la string\n",
    "\n",
    "ZZ(L,b) #le pasamos una lista de numeros y una base y nos devuelve el número\n",
    "\n",
    "n.digits(n) #le pasamos un numero y una base y nos lo mete en una lista en esa base"
   ]
  },
  {
   "cell_type": "markdown",
   "id": "5f33f9",
   "metadata": {
    "collapsed": false
   },
   "source": [
    "**EJERCICIOS**"
   ]
  },
  {
   "cell_type": "code",
   "execution_count": 0,
   "id": "0ab635",
   "metadata": {
    "collapsed": false
   },
   "outputs": [
   ],
   "source": [
    "Función coc para calcular o cociente enteiro de dividir a entre b (supoñendo a >= 0)"
   ]
  },
  {
   "cell_type": "code",
   "execution_count": 74,
   "id": "0c4b20",
   "metadata": {
    "collapsed": false
   },
   "outputs": [
   ],
   "source": [
    "def coc(a,b):\n",
    "    c=0\n",
    "    while(a-b*c)>=b or (a-b*c)<0:\n",
    "        c=c+1\n",
    "    return c"
   ]
  },
  {
   "cell_type": "code",
   "execution_count": 75,
   "id": "f601d1",
   "metadata": {
    "collapsed": false
   },
   "outputs": [
    {
     "data": {
      "text/plain": [
       "3"
      ]
     },
     "execution_count": 75,
     "metadata": {
     },
     "output_type": "execute_result"
    }
   ],
   "source": [
    "coc(10,3)"
   ]
  },
  {
   "cell_type": "code",
   "execution_count": 0,
   "id": "d81051",
   "metadata": {
    "collapsed": false
   },
   "outputs": [
   ],
   "source": [
    "Función coc_n para calcular o cociente enteiro de dividir a entre b (supoñendo a < 0)"
   ]
  },
  {
   "cell_type": "code",
   "execution_count": 83,
   "id": "1b1d8e",
   "metadata": {
    "collapsed": false
   },
   "outputs": [
   ],
   "source": [
    "def coc_n(a,b):\n",
    "    c=-1\n",
    "    while(a-b*c)<0 or (a-b*c)>=b:\n",
    "        c=c-1\n",
    "    return c\n",
    "    "
   ]
  },
  {
   "cell_type": "code",
   "execution_count": 84,
   "id": "5673f6",
   "metadata": {
    "collapsed": false
   },
   "outputs": [
    {
     "data": {
      "text/plain": [
       "-6"
      ]
     },
     "execution_count": 84,
     "metadata": {
     },
     "output_type": "execute_result"
    }
   ],
   "source": [
    "coc_n(-16,3)"
   ]
  },
  {
   "cell_type": "code",
   "execution_count": 0,
   "id": "cda01e",
   "metadata": {
    "collapsed": false
   },
   "outputs": [
   ],
   "source": [
    "Función res para calcular o resto de dividir a entre b"
   ]
  },
  {
   "cell_type": "code",
   "execution_count": 1,
   "id": "ca9d84",
   "metadata": {
    "collapsed": false
   },
   "outputs": [
   ],
   "source": [
    "def res(a,b):\n",
    "    return a-b*coc(a,b) #a%b"
   ]
  },
  {
   "cell_type": "code",
   "execution_count": 0,
   "id": "350bbd",
   "metadata": {
    "collapsed": false
   },
   "outputs": [
   ],
   "source": [
    "Función rec para recuperar o número enteiro coñecida a lista L das súas cifras nunha base dada b\n",
    "\n",
    "A idea é que se as cifras en base bb son [a0,a1,…,an−1][a0​,a1​,…,an−1​], entón o número é a0+a1⋅b+a1⋅b2+⋯+an−1⋅bn−1a0​+a1​⋅b+a1​⋅b2+⋯+an−1​⋅bn−1, ou, o que é o mesmo, a0⋅b0+a1⋅b1+a1⋅b2+⋯+an−1⋅bn−1a0​⋅b0+a1​⋅b1+a1​⋅b2+⋯+an−1​⋅b"
   ]
  },
  {
   "cell_type": "code",
   "execution_count": 2,
   "id": "21b915",
   "metadata": {
    "collapsed": false
   },
   "outputs": [
   ],
   "source": [
    "def rec(L,b):\n",
    "    x=0\n",
    "    for i in range(len(L)):\n",
    "        x=x+L[i]*b^i\n",
    "    return x"
   ]
  },
  {
   "cell_type": "code",
   "execution_count": 0,
   "id": "f3fadc",
   "metadata": {
    "collapsed": false
   },
   "outputs": [
   ],
   "source": [
    "Función cif para determinar as cifras dun enteiro n nunha base b\n",
    "\n",
    "Faremos uso dos operadores % e //\n",
    "\n",
    "    a % b = resto de dividir a entre b\n",
    "    a // b = cociente enteiro de dividir a entre b"
   ]
  },
  {
   "cell_type": "code",
   "execution_count": 3,
   "id": "70f4bc",
   "metadata": {
    "collapsed": false
   },
   "outputs": [
   ],
   "source": [
    "def cif(n,b):\n",
    "    L=[]\n",
    "    while n>0:\n",
    "        L.append(n%b)\n",
    "        n=n//b\n",
    "    return L\n",
    "# return n.digits(b)"
   ]
  },
  {
   "cell_type": "code",
   "execution_count": 4,
   "id": "d10085",
   "metadata": {
    "collapsed": false
   },
   "outputs": [
    {
     "data": {
      "text/plain": [
       "[6, 6, 3]"
      ]
     },
     "execution_count": 4,
     "metadata": {
     },
     "output_type": "execute_result"
    }
   ],
   "source": [
    "cif(246,8)"
   ]
  },
  {
   "cell_type": "code",
   "execution_count": 0,
   "id": "262db3",
   "metadata": {
    "collapsed": false
   },
   "outputs": [
   ],
   "source": [
    "Función cam para determinar as cifras na base b2, coñecidas as cifras na base b1"
   ]
  },
  {
   "cell_type": "code",
   "execution_count": 5,
   "id": "09b28a",
   "metadata": {
    "collapsed": false
   },
   "outputs": [
   ],
   "source": [
    "def camb(L,b1,b2):\n",
    "    return cif(rec(L,b1),b2)"
   ]
  },
  {
   "cell_type": "markdown",
   "id": "80df55",
   "metadata": {
    "collapsed": false
   },
   "source": [
    "**ARITMETICA MODULAR**"
   ]
  },
  {
   "cell_type": "code",
   "execution_count": 0,
   "id": "253b8a",
   "metadata": {
    "collapsed": false
   },
   "outputs": [
   ],
   "source": [
    "gcd(a,b) #devuele el máximo común divisor\n",
    "lcm(a,b) #devuelve el minimo común divisor\n",
    "\n",
    "mod(a,b)==a%b #devuelve el modulo(resto)\n",
    "\n",
    "inverse_mod(a,m) #devuelve el inverso modular de a múdlo m\n",
    "\n",
    "power_mod(a, n, m) #devuelve el resultado de a^n modulo m  (a^e (mod m)) usado en RSA\n",
    "\n",
    "[ord(s) for s in 'cualquier string'] #con esto convertimos cada caracter en su codificacion unicode\n",
    "[char(c) for c in [1,2,3,4]] #con esto convertimos numeros a str\n",
    "''.join #combina los elementos de una lista en una unica str\n",
    "\n",
    "is_prime #devuelve true si es primo\n",
    "next_prime #devuelve el próximo primo"
   ]
  },
  {
   "cell_type": "markdown",
   "id": "0f80ed",
   "metadata": {
    "collapsed": false
   },
   "source": [
    "**EJERCICIOS**"
   ]
  },
  {
   "cell_type": "code",
   "execution_count": 0,
   "id": "15aaa9",
   "metadata": {
    "collapsed": false
   },
   "outputs": [
   ],
   "source": [
    "  Algoritmo de Euclides para o cálculo do máximo común divisor de dous números"
   ]
  },
  {
   "cell_type": "code",
   "execution_count": 3,
   "id": "6f2d51",
   "metadata": {
    "collapsed": false
   },
   "outputs": [
   ],
   "source": [
    "def euclides(a,b):\n",
    "    r=0\n",
    "    while b>0:\n",
    "        r=a%b\n",
    "        a=b\n",
    "        b=r\n",
    "    return a\n",
    "        "
   ]
  },
  {
   "cell_type": "code",
   "execution_count": 4,
   "id": "ddc567",
   "metadata": {
    "collapsed": false
   },
   "outputs": [
    {
     "data": {
      "text/plain": [
       "2"
      ]
     },
     "execution_count": 4,
     "metadata": {
     },
     "output_type": "execute_result"
    }
   ],
   "source": [
    "euclides(134,6)"
   ]
  },
  {
   "cell_type": "code",
   "execution_count": 0,
   "id": "d59ab0",
   "metadata": {
    "collapsed": false
   },
   "outputs": [
   ],
   "source": [
    "Definir a funciónn rsa que encripta o número n usando a clave pública c"
   ]
  },
  {
   "cell_type": "code",
   "execution_count": 3,
   "id": "08698c",
   "metadata": {
    "collapsed": false
   },
   "outputs": [
   ],
   "source": [
    "p=5\n",
    "q=17\n",
    "n=p*q\n",
    "e=13\n",
    "c=[e,n]\n",
    "def encriptar(x,c):\n",
    "    return power_mod(x,c[0],c[1])"
   ]
  },
  {
   "cell_type": "code",
   "execution_count": 4,
   "id": "c64feb",
   "metadata": {
    "collapsed": false
   },
   "outputs": [
    {
     "data": {
      "text/plain": [
       "70"
      ]
     },
     "execution_count": 4,
     "metadata": {
     },
     "output_type": "execute_result"
    }
   ],
   "source": [
    "encriptar(15,c)"
   ]
  },
  {
   "cell_type": "code",
   "execution_count": 0,
   "id": "9017a2",
   "metadata": {
    "collapsed": false
   },
   "outputs": [
   ],
   "source": [
    "Para desencriptar usamos a mesma función rsa pero coa clave privada"
   ]
  },
  {
   "cell_type": "code",
   "execution_count": 5,
   "id": "f13ca4",
   "metadata": {
    "collapsed": false
   },
   "outputs": [
   ],
   "source": [
    "n=p*q\n",
    "phi=(p-1)*(q-1)\n",
    "d=inverse_mod(e,phi)\n",
    "\n",
    "def desencriptar(z,d): #x es el numero encriptado \n",
    "    return power_mod(z,d,c[1])"
   ]
  },
  {
   "cell_type": "code",
   "execution_count": 6,
   "id": "9f504f",
   "metadata": {
    "collapsed": false
   },
   "outputs": [
    {
     "data": {
      "text/plain": [
       "15"
      ]
     },
     "execution_count": 6,
     "metadata": {
     },
     "output_type": "execute_result"
    }
   ],
   "source": [
    "desencriptar(70,d)"
   ]
  },
  {
   "cell_type": "markdown",
   "id": "7ad17a",
   "metadata": {
    "collapsed": false
   },
   "source": [
    "**COMBINATORIA**"
   ]
  },
  {
   "cell_type": "code",
   "execution_count": 0,
   "id": "e7a3d5",
   "metadata": {
    "collapsed": false
   },
   "outputs": [
   ],
   "source": [
    "Permutations([1,2,3]).list()  #devuelve una lista con todas las permutatiocnes de esos tres numeros (P(3,3))\n",
    "Permutations([1,2,3],2).list()  #devuelve una lista con todas las permutatiocnes de esos tres numeros (P(3,2)) le indicamos la longitud tras la coma de lo que vamos a permutar\n",
    "\n",
    "[''.join(p) for p in Permutations('abcde')] #con esto combinamos las soluciones en una unica lsita\n",
    "\n"
   ]
  },
  {
   "cell_type": "code",
   "execution_count": 0,
   "id": "71e8df",
   "metadata": {
    "collapsed": false
   },
   "outputs": [
   ],
   "source": [
    "Combinations([1,2,3]).list()\n",
    "Combinations([1,2,3],2).list()\n",
    "[''.join(p) for p in Combiantions('abcde')]"
   ]
  },
  {
   "cell_type": "markdown",
   "id": "0421c5",
   "metadata": {
    "collapsed": false
   },
   "source": [
    "**EJERCICIOS**"
   ]
  },
  {
   "cell_type": "code",
   "execution_count": 0,
   "id": "0caf8a",
   "metadata": {
    "collapsed": false
   },
   "outputs": [
   ],
   "source": [
    "O torneo de tenis:\n",
    "\n",
    "Denotamos por 'AABBA' o resultado dun partido de tenis no que gaña o xogador 'A' por 3 xogos a dous, gañando 'B' os xogos 3 e 4.\n",
    "\n",
    "    Construir con Sage todos os posibles resultado nos que 'A' lle gaña a 'B' por 3 xogos a 2.\n",
    "    Construir con Sage todos os posibles resultados nos que 'A' lle gaña a 'B'\n",
    "    Se, en vez de 3, para gañar o partido houbese que vencer en nn xogos, con nn un número enteiro positivo, define unha función para calcular o número de posibles resultados.\n",
    "\n",
    "Pregunta 1\n",
    "\n",
    "Posto que sempre a cadea remata en 'A', temos dúas posibilidades:\n",
    "\n",
    "    a) Permutar 'AAABB' e quedarnos coas cadeas que rematan en 'A'\n",
    "    b) Permutar 'AABB' e engadirlle pola dereita un 'A' a cada cadea resultante\n",
    "\n",
    "Pregunta 2\n",
    "\n",
    "Todo o que se necesita é concatenar as listas correspondentes aos resultados 3-0, 3-1 e 3-2, e de novo varias opcións\n",
    "\n",
    "    a_1) Permutar 'AAA', 'AAAB' e 'AAABB', filtrar aquelas cadeas que rematan en 'A' e xuntar as listas resultantes\n",
    "    a_2) Permutar 'AAA', 'AAAB' e 'AAABB', xuntar as correspondentes listas e filtrar aquelas cadeas que rematan en 'A'\n",
    "    b) Permutar 'AA', 'AAB' e 'AABB', xuntar as correspondentes listas e engadirlle a cada unha das cadeas da lista resultante un 'A' pola dereita\n",
    "\n",
    "Pregunta 3\n",
    "\n",
    "Para a función tamén teriamos esencialmente dúas opcións. Escollemos unha delas\n"
   ]
  },
  {
   "cell_type": "code",
   "execution_count": 15,
   "id": "c0b20f",
   "metadata": {
    "collapsed": false
   },
   "outputs": [
    {
     "data": {
      "text/plain": [
       "['AABBA', 'ABABA', 'ABBAA', 'BAABA', 'BABAA', 'BBAAA']"
      ]
     },
     "execution_count": 15,
     "metadata": {
     },
     "output_type": "execute_result"
    }
   ],
   "source": [
    "L=[''.join(p) for p in Permutations('AAABB',5) if p[4]=='A']\n",
    "L"
   ]
  },
  {
   "cell_type": "code",
   "execution_count": 17,
   "id": "4730ac",
   "metadata": {
    "collapsed": false
   },
   "outputs": [
    {
     "data": {
      "text/plain": [
       "['AABBA',\n",
       " 'ABABA',\n",
       " 'ABBAA',\n",
       " 'BAABA',\n",
       " 'BABAA',\n",
       " 'BBAAA',\n",
       " 'AABA',\n",
       " 'ABAA',\n",
       " 'BAAA',\n",
       " 'AAA']"
      ]
     },
     "execution_count": 17,
     "metadata": {
     },
     "output_type": "execute_result"
    }
   ],
   "source": [
    "Lt=[''.join(p) for p in Permutations('AAABB',5) if p[4]=='A']+[''.join(p) for p in Permutations('AAAB',4) if p[3]=='A']+[''.join(p) for p in Permutations('AAA',3)]\n",
    "Lt"
   ]
  },
  {
   "cell_type": "code",
   "execution_count": 21,
   "id": "3b2004",
   "metadata": {
    "collapsed": false
   },
   "outputs": [
   ],
   "source": [
    "def torneo(n):\n",
    "    r=[]\n",
    "    for k in range(n):\n",
    "        r=r+[''.join(p) for p in Permutations('A'*n+'B'*k) if p[-1]=='A']\n",
    "    return r"
   ]
  },
  {
   "cell_type": "code",
   "execution_count": 22,
   "id": "064533",
   "metadata": {
    "collapsed": false
   },
   "outputs": [
    {
     "data": {
      "text/plain": [
       "['AAA',\n",
       " 'AAPA',\n",
       " 'APAA',\n",
       " 'PAAA',\n",
       " 'AAPPA',\n",
       " 'APAPA',\n",
       " 'APPAA',\n",
       " 'PAAPA',\n",
       " 'PAPAA',\n",
       " 'PPAAA']"
      ]
     },
     "execution_count": 22,
     "metadata": {
     },
     "output_type": "execute_result"
    }
   ],
   "source": [
    "torneo(3)"
   ]
  },
  {
   "cell_type": "code",
   "execution_count": 0,
   "id": "5764fd",
   "metadata": {
    "collapsed": false
   },
   "outputs": [
   ],
   "source": [
    "Nas figuras de abaixo móstranse varios camiños para irmos dende o extremo inferior esquerdo ao superior dereito, movéndonos pola retícula.\n",
    "\n",
    "Por exemplo, o camiño da figura 1 podémolo representar mediante a cadea 'HHVVHVHVHV', mentres que o da figura 4 corresponde a 'HVVVHHVHHV'. Trátase de\n",
    "\n",
    "    Representar con Sagemath todos os posibles camiños de lonxitude mínima como os das figuras\n",
    "    Contar con Sagemath o número de camiños que non cruzan a diagonal para arriba (podendo tocala)\n",
    "    Definir unha función que dados dous números enteiros, aa e bb, nos devolva todos os camiños para desplazarnos por unha retícula coma as de arriba entre o punto (0,0)(0,0) e o punto (a,b)(a,b)\n",
    "\n"
   ]
  },
  {
   "cell_type": "code",
   "execution_count": 0,
   "id": "ec705d",
   "metadata": {
    "collapsed": false
   },
   "outputs": [
   ],
   "source": [
    "sinrestricciones=[''.join(p) for p in Permutations('DDDDDAAAAA')]\n",
    "sinrestricciones"
   ]
  },
  {
   "cell_type": "code",
   "execution_count": 32,
   "id": "80ba33",
   "metadata": {
    "collapsed": false
   },
   "outputs": [
   ],
   "source": [
    "def test(c):\n",
    "    D=0\n",
    "    A=0\n",
    "    for i in range(len(c)-5):\n",
    "        if c[i]=='D': D=D+1\n",
    "        else: A=A+1 \n",
    "        if A>D: return False\n",
    "    else: return True\n",
    "        \n",
    "diagonal=[''.join(p) for p in Permutations('AAAAADDDDD') if test(p)==True]\n"
   ]
  },
  {
   "cell_type": "code",
   "execution_count": 33,
   "id": "195207",
   "metadata": {
    "collapsed": false
   },
   "outputs": [
   ],
   "source": [
    "def cam(a,b):\n",
    "    return [''.join(p) for p in Permutations('D'*a+'A'*b,a+b)]"
   ]
  },
  {
   "cell_type": "code",
   "execution_count": 34,
   "id": "542911",
   "metadata": {
    "collapsed": false
   },
   "outputs": [
    {
     "data": {
      "text/plain": [
       "['DDDA', 'DDAD', 'DADD', 'ADDD']"
      ]
     },
     "execution_count": 34,
     "metadata": {
     },
     "output_type": "execute_result"
    }
   ],
   "source": [
    "cam(3,1)"
   ]
  },
  {
   "cell_type": "code",
   "execution_count": 0,
   "id": "a58888",
   "metadata": {
    "collapsed": false
   },
   "outputs": [
   ],
   "source": [
    "Definir unha función para construir todas as formas de colocar t figuras triangulares, c figuras circulares e p pentágonaiss formando un círculo, tendo que ir xuntos, polo menos, 2 dos triángulos e ningún pentágono pode ir seguido dun círculo."
   ]
  },
  {
   "cell_type": "code",
   "execution_count": 59,
   "id": "cd433e",
   "metadata": {
    "collapsed": false
   },
   "outputs": [
   ],
   "source": [
    "    \n",
    "def test1(c):\n",
    "    for i in range(len(c)-1):\n",
    "        if c[i]=='T' and c[i+1]=='T':\n",
    "            return True\n",
    "        \n",
    "    if c[0]=='T' and c[-1]=='T':\n",
    "        return True\n",
    "    else:\n",
    "        return False\n",
    "\n",
    "def test2(c):\n",
    "    \n",
    "    \n",
    "    for i in range(len(c)-1):\n",
    "        if c[i]=='P' and c[i+1]=='C':\n",
    "            return False\n",
    "    if c[0]=='C' and c[-1]=='P':\n",
    "        return False\n",
    "    \n",
    "    else:\n",
    "        return True\n",
    "                      \n",
    "            \n",
    "def funct(t,c,p):\n",
    "    return [''.join(i) for i in Permutations('T'*t+'C'*c+'P'*p,p+c+t) if test1(i)==True and test2(i)==True]\n",
    "    "
   ]
  },
  {
   "cell_type": "code",
   "execution_count": 60,
   "id": "e57ebf",
   "metadata": {
    "collapsed": false
   },
   "outputs": [
    {
     "data": {
      "text/plain": [
       "['TTCP', 'TCPT', 'CPTT', 'PTTC']"
      ]
     },
     "execution_count": 60,
     "metadata": {
     },
     "output_type": "execute_result"
    }
   ],
   "source": [
    "funct(2,1,1)"
   ]
  },
  {
   "cell_type": "markdown",
   "id": "2e0f69",
   "metadata": {
    "collapsed": false
   },
   "source": [
    "**RECURSIVIDAD**"
   ]
  },
  {
   "cell_type": "code",
   "execution_count": 0,
   "id": "0b5a25",
   "metadata": {
    "collapsed": false
   },
   "outputs": [
   ],
   "source": [
    "@cached_function"
   ]
  },
  {
   "cell_type": "markdown",
   "id": "718a4a",
   "metadata": {
    "collapsed": false
   },
   "source": [
    "**EJERCICIOS**"
   ]
  },
  {
   "cell_type": "code",
   "execution_count": 0,
   "id": "3cdfab",
   "metadata": {
    "collapsed": false
   },
   "outputs": [
   ],
   "source": [
    "Fibonachi recusivo"
   ]
  },
  {
   "cell_type": "code",
   "execution_count": 63,
   "id": "1274b7",
   "metadata": {
    "collapsed": false
   },
   "outputs": [
   ],
   "source": [
    "@cached_function\n",
    "def fibo(n):\n",
    "    if n==0: return 0\n",
    "    elif n==1: return 1\n",
    "    else: return fibo(n-1)+fibo(n-2)"
   ]
  },
  {
   "cell_type": "code",
   "execution_count": 64,
   "id": "61be94",
   "metadata": {
    "collapsed": false
   },
   "outputs": [
    {
     "data": {
      "text/plain": [
       "1134903170"
      ]
     },
     "execution_count": 64,
     "metadata": {
     },
     "output_type": "execute_result"
    }
   ],
   "source": [
    "fibo(45)"
   ]
  },
  {
   "cell_type": "code",
   "execution_count": 0,
   "id": "d206a0",
   "metadata": {
    "collapsed": false
   },
   "outputs": [
   ],
   "source": [
    "sendo H(n)H(n) a cantidade de movementos necesarios para completar o xogo das torres de Hannoi con nn discos, sabemso que cumplen a seguinre relación de recorrencia\n",
    "H(n)=2H(n−1)+1,\n",
    "H(n)=2H(n−1)+1,\n",
    "\n",
    "que, xunto á condición inicial : H(1)=1H(1)=1, define a sucesión {Hn}{Hn​} "
   ]
  },
  {
   "cell_type": "code",
   "execution_count": 65,
   "id": "381209",
   "metadata": {
    "collapsed": false
   },
   "outputs": [
   ],
   "source": [
    "@cached_function\n",
    "def han(n):\n",
    "    if n==0: return 0\n",
    "    elif n==1: return 1\n",
    "    else: return 2*han(n-1)+1"
   ]
  },
  {
   "cell_type": "code",
   "execution_count": 66,
   "id": "b4d1c9",
   "metadata": {
    "collapsed": false
   },
   "outputs": [
    {
     "data": {
      "text/plain": [
       "7"
      ]
     },
     "execution_count": 66,
     "metadata": {
     },
     "output_type": "execute_result"
    }
   ],
   "source": [
    "han(3)"
   ]
  },
  {
   "cell_type": "code",
   "execution_count": 0,
   "id": "2de59a",
   "metadata": {
    "collapsed": false
   },
   "outputs": [
   ],
   "source": [
    "\n",
    "\n",
    "Lembrar como se calcularon na clase o número de cadeas de n bits sen ceros consecutivos:\n",
    "\n",
    "    Separar as cadeas segundo sexa o seu último bit, '0' ou '1' (principio de adición)\n",
    "        Se o derradeiro bit é '0', necesariamente o penúltimo é '1', porque non poden ir '00', e nos n−2n−2 bits restantes non pode haber '00'\n",
    "        Se o derradeiro bit é '1', nos n−1n−1 restantes non pode haber '00'\n",
    "    Dualmente:\n",
    "        Se partimos dunha cadea de n−2n−2 bits sen '00', engadíndollle '10' á final, temos unha cadea de nn bits rematada en '0'\n",
    "        Se partimos dunha cadea de n−1n−1 bits sen '00', engadíndolle '1' á final, temos unha cadea de nn bits sen '00'\n"
   ]
  },
  {
   "cell_type": "code",
   "execution_count": 0,
   "id": "db4496",
   "metadata": {
    "collapsed": false
   },
   "outputs": [
   ],
   "source": [
    "@cached_fuction\n",
    "def cadeas(n):\n",
    "    if n==1: return ['0','1']\n",
    "    elif n==2: return ['01','10','11']\n",
    "    else: return [c+'10' for c in cadeas(n-2)]+ [c+'1' for c in cadeas(n-1)]"
   ]
  },
  {
   "cell_type": "code",
   "execution_count": 0,
   "id": "d66420",
   "metadata": {
    "collapsed": false
   },
   "outputs": [
   ],
   "source": [
    "Recordar como se calculan as cifras de un número nn nunha base calquera, bb:\n",
    "\n",
    "    Dividimos nn entre bb e o resto é a primerira cifra (a menos significativa)\n",
    "    Dividimos o cociente anterior de novo entre bb, e o resto é a segunda cifra pola dereita\n",
    "    ......\n",
    "    Seguimos ata que o cociente nos dea 0\n",
    "\n",
    "Claramente é un proceso recursivo, no que se vai rebaixando o número en cada iteración"
   ]
  },
  {
   "cell_type": "code",
   "execution_count": 0,
   "id": "875763",
   "metadata": {
    "collapsed": false
   },
   "outputs": [
   ],
   "source": [
    "@cached_fuction\n",
    "def cif(n,b):\n",
    "    if n<b: return str(n)\n",
    "else: return cif(a//b,b)+str(n%b)"
   ]
  },
  {
   "cell_type": "code",
   "execution_count": 0,
   "id": "c1db11",
   "metadata": {
    "collapsed": false
   },
   "outputs": [
   ],
   "source": [
    "Outro exemplo de algoritmo recursivo: algoritmo para o cálculo de máximo común divisor usando o algoritmo de Euclides"
   ]
  },
  {
   "cell_type": "code",
   "execution_count": 0,
   "id": "d2fc5f",
   "metadata": {
    "collapsed": false
   },
   "outputs": [
   ],
   "source": [
    "@cached_function\n",
    "def gcd(a,b):\n",
    "    if b==0: return a\n",
    "    else return gcd(b,a%b)"
   ]
  },
  {
   "cell_type": "code",
   "execution_count": 0,
   "id": "f8fc51",
   "metadata": {
    "collapsed": false
   },
   "outputs": [
   ],
   "source": [
    "coef binomial recursivo"
   ]
  },
  {
   "cell_type": "code",
   "execution_count": 67,
   "id": "6aaaa6",
   "metadata": {
    "collapsed": false
   },
   "outputs": [
   ],
   "source": [
    "def com(n,k):\n",
    "    if n==k: return 1\n",
    "    elif k==0: return 1\n",
    "    else: return com(n-1,k-1)*com(n-1,k)"
   ]
  },
  {
   "cell_type": "code",
   "execution_count": 0,
   "id": "cedbff",
   "metadata": {
    "collapsed": false
   },
   "outputs": [
   ],
   "source": [
    "definir a funcion factorial usando un algortimo recursivo"
   ]
  },
  {
   "cell_type": "code",
   "execution_count": 68,
   "id": "e7e58b",
   "metadata": {
    "collapsed": false
   },
   "outputs": [
   ],
   "source": [
    "def fact(n):\n",
    "    if n==0: return 1\n",
    "    elif n==1: return 1\n",
    "    else: return n*fact(n-1)"
   ]
  },
  {
   "cell_type": "code",
   "execution_count": 0,
   "id": "f93bcf",
   "metadata": {
    "collapsed": false
   },
   "outputs": [
   ],
   "source": [
    "tendo os numero combinatorios define a funcion binomio de newton que devolva o resultado de a+b elevado a n"
   ]
  },
  {
   "cell_type": "code",
   "execution_count": 69,
   "id": "f93c8e",
   "metadata": {
    "collapsed": false
   },
   "outputs": [
   ],
   "source": [
    "def bin(a,b,n): #asi o con la fomula de sumatorio com(n,k)*a^(n-k)*b*k\n",
    "    if n==0: return 1\n",
    "    elif n==1: return a+b\n",
    "    else: return (a+b)*bin(a,b,n-1)"
   ]
  },
  {
   "cell_type": "code",
   "execution_count": 72,
   "id": "16aeac",
   "metadata": {
    "collapsed": false
   },
   "outputs": [
    {
     "data": {
      "text/plain": [
       "125"
      ]
     },
     "execution_count": 72,
     "metadata": {
     },
     "output_type": "execute_result"
    }
   ],
   "source": [
    "bin(3,2,3)"
   ]
  },
  {
   "cell_type": "code",
   "execution_count": 0,
   "id": "583c6e",
   "metadata": {
    "collapsed": false
   },
   "outputs": [
   ],
   "source": [
   ]
  }
 ],
 "metadata": {
  "kernelspec": {
   "argv": [
    "sage-10.3",
    "--python",
    "-m",
    "sage.repl.ipython_kernel",
    "--matplotlib=inline",
    "-f",
    "{connection_file}"
   ],
   "display_name": "SageMath 10.3",
   "env": {
   },
   "language": "sagemath",
   "metadata": {
    "cocalc": {
     "description": "Open-source mathematical software system",
     "priority": 2,
     "url": "https://www.sagemath.org/"
    }
   },
   "name": "sage-10.3",
   "resource_dir": "/ext/jupyter/kernels/sage-10.3"
  },
  "language_info": {
   "codemirror_mode": {
    "name": "ipython",
    "version": 3
   },
   "file_extension": ".py",
   "mimetype": "text/x-python",
   "name": "python",
   "nbconvert_exporter": "python",
   "pygments_lexer": "ipython3",
   "version": "3.11.1"
  }
 },
 "nbformat": 4,
 "nbformat_minor": 4
}
